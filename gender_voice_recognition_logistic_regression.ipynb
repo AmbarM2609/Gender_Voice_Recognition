{
  "cells": [
    {
      "cell_type": "markdown",
      "metadata": {
        "id": "view-in-github",
        "colab_type": "text"
      },
      "source": [
        "<a href=\"https://colab.research.google.com/github/AmbarM2609/Gender_Voice_Recognition/blob/main/gender_voice_recognition_logistic_regression.ipynb\" target=\"_parent\"><img src=\"https://colab.research.google.com/assets/colab-badge.svg\" alt=\"Open In Colab\"/></a>"
      ]
    },
    {
      "cell_type": "code",
      "source": [
        "from google.colab import drive\n",
        "drive.mount('/content/drive')"
      ],
      "metadata": {
        "colab": {
          "base_uri": "https://localhost:8080/"
        },
        "id": "F11wVjYz3uFw",
        "outputId": "1c293ac6-5e68-4765-ffe3-8187a200ab8d"
      },
      "id": "F11wVjYz3uFw",
      "execution_count": null,
      "outputs": [
        {
          "output_type": "stream",
          "name": "stdout",
          "text": [
            "Drive already mounted at /content/drive; to attempt to forcibly remount, call drive.mount(\"/content/drive\", force_remount=True).\n"
          ]
        }
      ]
    },
    {
      "cell_type": "code",
      "source": [
        "! mkdir ~/.kaggle"
      ],
      "metadata": {
        "id": "B7MbCEDZ4xTQ"
      },
      "id": "B7MbCEDZ4xTQ",
      "execution_count": null,
      "outputs": []
    },
    {
      "cell_type": "code",
      "source": [
        "!cp /content/drive/MyDrive/kaggle.json ~/.kaggle/kaggle.json"
      ],
      "metadata": {
        "id": "UGMzyfKe4xGP"
      },
      "id": "UGMzyfKe4xGP",
      "execution_count": null,
      "outputs": []
    },
    {
      "cell_type": "code",
      "source": [
        "! chmod 600 ~/.kaggle/kaggle.json"
      ],
      "metadata": {
        "id": "WXdeiZaF4wzx"
      },
      "id": "WXdeiZaF4wzx",
      "execution_count": null,
      "outputs": []
    },
    {
      "cell_type": "code",
      "source": [
        "! kaggle datasets download primaryobjects/voicegender"
      ],
      "metadata": {
        "colab": {
          "base_uri": "https://localhost:8080/"
        },
        "id": "Y8Dxd7hC6ZA2",
        "outputId": "670842f0-6e05-47f4-dd6d-edae95010a64"
      },
      "id": "Y8Dxd7hC6ZA2",
      "execution_count": null,
      "outputs": [
        {
          "output_type": "stream",
          "name": "stdout",
          "text": [
            "Dataset URL: https://www.kaggle.com/datasets/primaryobjects/voicegender\n",
            "License(s): CC-BY-NC-SA-4.0\n",
            "Downloading voicegender.zip to /content\n",
            "  0% 0.00/405k [00:00<?, ?B/s]\n",
            "100% 405k/405k [00:00<00:00, 81.3MB/s]\n"
          ]
        }
      ]
    },
    {
      "cell_type": "code",
      "source": [
        "! unzip /content/voicegender.zip"
      ],
      "metadata": {
        "colab": {
          "base_uri": "https://localhost:8080/"
        },
        "id": "hurwA3Is6uVV",
        "outputId": "1cd20bbf-0283-4f36-eafb-424635874671"
      },
      "id": "hurwA3Is6uVV",
      "execution_count": null,
      "outputs": [
        {
          "output_type": "stream",
          "name": "stdout",
          "text": [
            "Archive:  /content/voicegender.zip\n",
            "replace voice.csv? [y]es, [n]o, [A]ll, [N]one, [r]ename: "
          ]
        }
      ]
    },
    {
      "cell_type": "markdown",
      "id": "934328d9",
      "metadata": {
        "papermill": {
          "duration": 0.006326,
          "end_time": "2024-06-02T12:06:45.061881",
          "exception": false,
          "start_time": "2024-06-02T12:06:45.055555",
          "status": "completed"
        },
        "tags": [],
        "id": "934328d9"
      },
      "source": [
        "**What is Logistic Regression?**\n",
        "\n",
        "* Logistic Regression is used in the classification of numerical or catagorical data. The result of the dependent variable can only have 2 different values, for example yes / no, 1/0, female / male.\n",
        "* Now, let's use logistic regression, one of scikit-learn's popular machine learning algorithms, to train our diabetes dataset."
      ]
    },
    {
      "cell_type": "code",
      "execution_count": null,
      "id": "0e402926",
      "metadata": {
        "_cell_guid": "b1076dfc-b9ad-4769-8c92-a6c4dae69d19",
        "_uuid": "8f2839f25d086af736a60e9eeb907d3b93b6e0e5",
        "execution": {
          "iopub.execute_input": "2024-06-02T12:06:45.074522Z",
          "iopub.status.busy": "2024-06-02T12:06:45.074071Z",
          "iopub.status.idle": "2024-06-02T12:06:45.094801Z",
          "shell.execute_reply": "2024-06-02T12:06:45.093656Z"
        },
        "papermill": {
          "duration": 0.029988,
          "end_time": "2024-06-02T12:06:45.097531",
          "exception": false,
          "start_time": "2024-06-02T12:06:45.067543",
          "status": "completed"
        },
        "tags": [],
        "id": "0e402926",
        "outputId": "df734ebd-c7ff-42a5-d4da-730d34f00454"
      },
      "outputs": [
        {
          "name": "stdout",
          "output_type": "stream",
          "text": [
            "/kaggle/input/voicegender/voice.csv\n"
          ]
        }
      ],
      "source": [
        "import os\n",
        "for dirname, _, filenames in os.walk('/kaggle/input'):\n",
        "    for filename in filenames:\n",
        "        print(os.path.join(dirname, filename))"
      ]
    },
    {
      "cell_type": "markdown",
      "id": "de953670",
      "metadata": {
        "papermill": {
          "duration": 0.00519,
          "end_time": "2024-06-02T12:06:45.108237",
          "exception": false,
          "start_time": "2024-06-02T12:06:45.103047",
          "status": "completed"
        },
        "tags": [],
        "id": "de953670"
      },
      "source": []
    },
    {
      "cell_type": "markdown",
      "id": "8d55dc38",
      "metadata": {
        "papermill": {
          "duration": 0.005526,
          "end_time": "2024-06-02T12:06:45.119311",
          "exception": false,
          "start_time": "2024-06-02T12:06:45.113785",
          "status": "completed"
        },
        "tags": [],
        "id": "8d55dc38"
      },
      "source": [
        "**About Dataset**\n",
        "\n",
        "**Voice Gender**\n",
        "\n",
        "Gender Recognition by Voice and Speech Analysis\n",
        "\n",
        "This database was created to identify a voice as male or female, based upon acoustic properties of the voice and speech. The dataset consists of 3,168 recorded voice samples, collected from male and female speakers. The voice samples are pre-processed by acoustic analysis in R using the seewave and tuneR packages, with an analyzed frequency range of 0hz-280hz (human vocal range)."
      ]
    },
    {
      "cell_type": "code",
      "execution_count": null,
      "id": "b66b7a8d",
      "metadata": {
        "execution": {
          "iopub.execute_input": "2024-06-02T12:06:45.131652Z",
          "iopub.status.busy": "2024-06-02T12:06:45.131267Z",
          "iopub.status.idle": "2024-06-02T12:06:47.316263Z",
          "shell.execute_reply": "2024-06-02T12:06:47.314966Z"
        },
        "papermill": {
          "duration": 2.194142,
          "end_time": "2024-06-02T12:06:47.318865",
          "exception": false,
          "start_time": "2024-06-02T12:06:45.124723",
          "status": "completed"
        },
        "tags": [],
        "id": "b66b7a8d"
      },
      "outputs": [],
      "source": [
        "#%% libraries\n",
        "import pandas as pd\n",
        "import numpy as np\n",
        "import matplotlib.pyplot as plt\n",
        "import seaborn as sns"
      ]
    },
    {
      "cell_type": "code",
      "execution_count": null,
      "id": "decae03b",
      "metadata": {
        "execution": {
          "iopub.execute_input": "2024-06-02T12:06:47.331598Z",
          "iopub.status.busy": "2024-06-02T12:06:47.331034Z",
          "iopub.status.idle": "2024-06-02T12:06:47.418526Z",
          "shell.execute_reply": "2024-06-02T12:06:47.417474Z"
        },
        "papermill": {
          "duration": 0.096815,
          "end_time": "2024-06-02T12:06:47.421081",
          "exception": false,
          "start_time": "2024-06-02T12:06:47.324266",
          "status": "completed"
        },
        "tags": [],
        "id": "decae03b",
        "outputId": "7b9c228b-6f92-4998-dd75-b97f88e33984"
      },
      "outputs": [
        {
          "data": {
            "text/html": [
              "<div>\n",
              "<style scoped>\n",
              "    .dataframe tbody tr th:only-of-type {\n",
              "        vertical-align: middle;\n",
              "    }\n",
              "\n",
              "    .dataframe tbody tr th {\n",
              "        vertical-align: top;\n",
              "    }\n",
              "\n",
              "    .dataframe thead th {\n",
              "        text-align: right;\n",
              "    }\n",
              "</style>\n",
              "<table border=\"1\" class=\"dataframe\">\n",
              "  <thead>\n",
              "    <tr style=\"text-align: right;\">\n",
              "      <th></th>\n",
              "      <th>meanfreq</th>\n",
              "      <th>sd</th>\n",
              "      <th>median</th>\n",
              "      <th>Q25</th>\n",
              "      <th>Q75</th>\n",
              "      <th>IQR</th>\n",
              "      <th>skew</th>\n",
              "      <th>kurt</th>\n",
              "      <th>sp.ent</th>\n",
              "      <th>sfm</th>\n",
              "      <th>...</th>\n",
              "      <th>centroid</th>\n",
              "      <th>meanfun</th>\n",
              "      <th>minfun</th>\n",
              "      <th>maxfun</th>\n",
              "      <th>meandom</th>\n",
              "      <th>mindom</th>\n",
              "      <th>maxdom</th>\n",
              "      <th>dfrange</th>\n",
              "      <th>modindx</th>\n",
              "      <th>label</th>\n",
              "    </tr>\n",
              "  </thead>\n",
              "  <tbody>\n",
              "    <tr>\n",
              "      <th>0</th>\n",
              "      <td>0.059781</td>\n",
              "      <td>0.064241</td>\n",
              "      <td>0.032027</td>\n",
              "      <td>0.015071</td>\n",
              "      <td>0.090193</td>\n",
              "      <td>0.075122</td>\n",
              "      <td>12.863462</td>\n",
              "      <td>274.402906</td>\n",
              "      <td>0.893369</td>\n",
              "      <td>0.491918</td>\n",
              "      <td>...</td>\n",
              "      <td>0.059781</td>\n",
              "      <td>0.084279</td>\n",
              "      <td>0.015702</td>\n",
              "      <td>0.275862</td>\n",
              "      <td>0.007812</td>\n",
              "      <td>0.007812</td>\n",
              "      <td>0.007812</td>\n",
              "      <td>0.000000</td>\n",
              "      <td>0.000000</td>\n",
              "      <td>male</td>\n",
              "    </tr>\n",
              "    <tr>\n",
              "      <th>1</th>\n",
              "      <td>0.066009</td>\n",
              "      <td>0.067310</td>\n",
              "      <td>0.040229</td>\n",
              "      <td>0.019414</td>\n",
              "      <td>0.092666</td>\n",
              "      <td>0.073252</td>\n",
              "      <td>22.423285</td>\n",
              "      <td>634.613855</td>\n",
              "      <td>0.892193</td>\n",
              "      <td>0.513724</td>\n",
              "      <td>...</td>\n",
              "      <td>0.066009</td>\n",
              "      <td>0.107937</td>\n",
              "      <td>0.015826</td>\n",
              "      <td>0.250000</td>\n",
              "      <td>0.009014</td>\n",
              "      <td>0.007812</td>\n",
              "      <td>0.054688</td>\n",
              "      <td>0.046875</td>\n",
              "      <td>0.052632</td>\n",
              "      <td>male</td>\n",
              "    </tr>\n",
              "    <tr>\n",
              "      <th>2</th>\n",
              "      <td>0.077316</td>\n",
              "      <td>0.083829</td>\n",
              "      <td>0.036718</td>\n",
              "      <td>0.008701</td>\n",
              "      <td>0.131908</td>\n",
              "      <td>0.123207</td>\n",
              "      <td>30.757155</td>\n",
              "      <td>1024.927705</td>\n",
              "      <td>0.846389</td>\n",
              "      <td>0.478905</td>\n",
              "      <td>...</td>\n",
              "      <td>0.077316</td>\n",
              "      <td>0.098706</td>\n",
              "      <td>0.015656</td>\n",
              "      <td>0.271186</td>\n",
              "      <td>0.007990</td>\n",
              "      <td>0.007812</td>\n",
              "      <td>0.015625</td>\n",
              "      <td>0.007812</td>\n",
              "      <td>0.046512</td>\n",
              "      <td>male</td>\n",
              "    </tr>\n",
              "    <tr>\n",
              "      <th>3</th>\n",
              "      <td>0.151228</td>\n",
              "      <td>0.072111</td>\n",
              "      <td>0.158011</td>\n",
              "      <td>0.096582</td>\n",
              "      <td>0.207955</td>\n",
              "      <td>0.111374</td>\n",
              "      <td>1.232831</td>\n",
              "      <td>4.177296</td>\n",
              "      <td>0.963322</td>\n",
              "      <td>0.727232</td>\n",
              "      <td>...</td>\n",
              "      <td>0.151228</td>\n",
              "      <td>0.088965</td>\n",
              "      <td>0.017798</td>\n",
              "      <td>0.250000</td>\n",
              "      <td>0.201497</td>\n",
              "      <td>0.007812</td>\n",
              "      <td>0.562500</td>\n",
              "      <td>0.554688</td>\n",
              "      <td>0.247119</td>\n",
              "      <td>male</td>\n",
              "    </tr>\n",
              "    <tr>\n",
              "      <th>4</th>\n",
              "      <td>0.135120</td>\n",
              "      <td>0.079146</td>\n",
              "      <td>0.124656</td>\n",
              "      <td>0.078720</td>\n",
              "      <td>0.206045</td>\n",
              "      <td>0.127325</td>\n",
              "      <td>1.101174</td>\n",
              "      <td>4.333713</td>\n",
              "      <td>0.971955</td>\n",
              "      <td>0.783568</td>\n",
              "      <td>...</td>\n",
              "      <td>0.135120</td>\n",
              "      <td>0.106398</td>\n",
              "      <td>0.016931</td>\n",
              "      <td>0.266667</td>\n",
              "      <td>0.712812</td>\n",
              "      <td>0.007812</td>\n",
              "      <td>5.484375</td>\n",
              "      <td>5.476562</td>\n",
              "      <td>0.208274</td>\n",
              "      <td>male</td>\n",
              "    </tr>\n",
              "    <tr>\n",
              "      <th>5</th>\n",
              "      <td>0.132786</td>\n",
              "      <td>0.079557</td>\n",
              "      <td>0.119090</td>\n",
              "      <td>0.067958</td>\n",
              "      <td>0.209592</td>\n",
              "      <td>0.141634</td>\n",
              "      <td>1.932562</td>\n",
              "      <td>8.308895</td>\n",
              "      <td>0.963181</td>\n",
              "      <td>0.738307</td>\n",
              "      <td>...</td>\n",
              "      <td>0.132786</td>\n",
              "      <td>0.110132</td>\n",
              "      <td>0.017112</td>\n",
              "      <td>0.253968</td>\n",
              "      <td>0.298222</td>\n",
              "      <td>0.007812</td>\n",
              "      <td>2.726562</td>\n",
              "      <td>2.718750</td>\n",
              "      <td>0.125160</td>\n",
              "      <td>male</td>\n",
              "    </tr>\n",
              "    <tr>\n",
              "      <th>6</th>\n",
              "      <td>0.150762</td>\n",
              "      <td>0.074463</td>\n",
              "      <td>0.160106</td>\n",
              "      <td>0.092899</td>\n",
              "      <td>0.205718</td>\n",
              "      <td>0.112819</td>\n",
              "      <td>1.530643</td>\n",
              "      <td>5.987498</td>\n",
              "      <td>0.967573</td>\n",
              "      <td>0.762638</td>\n",
              "      <td>...</td>\n",
              "      <td>0.150762</td>\n",
              "      <td>0.105945</td>\n",
              "      <td>0.026230</td>\n",
              "      <td>0.266667</td>\n",
              "      <td>0.479620</td>\n",
              "      <td>0.007812</td>\n",
              "      <td>5.312500</td>\n",
              "      <td>5.304688</td>\n",
              "      <td>0.123992</td>\n",
              "      <td>male</td>\n",
              "    </tr>\n",
              "    <tr>\n",
              "      <th>7</th>\n",
              "      <td>0.160514</td>\n",
              "      <td>0.076767</td>\n",
              "      <td>0.144337</td>\n",
              "      <td>0.110532</td>\n",
              "      <td>0.231962</td>\n",
              "      <td>0.121430</td>\n",
              "      <td>1.397156</td>\n",
              "      <td>4.766611</td>\n",
              "      <td>0.959255</td>\n",
              "      <td>0.719858</td>\n",
              "      <td>...</td>\n",
              "      <td>0.160514</td>\n",
              "      <td>0.093052</td>\n",
              "      <td>0.017758</td>\n",
              "      <td>0.144144</td>\n",
              "      <td>0.301339</td>\n",
              "      <td>0.007812</td>\n",
              "      <td>0.539062</td>\n",
              "      <td>0.531250</td>\n",
              "      <td>0.283937</td>\n",
              "      <td>male</td>\n",
              "    </tr>\n",
              "    <tr>\n",
              "      <th>8</th>\n",
              "      <td>0.142239</td>\n",
              "      <td>0.078018</td>\n",
              "      <td>0.138587</td>\n",
              "      <td>0.088206</td>\n",
              "      <td>0.208587</td>\n",
              "      <td>0.120381</td>\n",
              "      <td>1.099746</td>\n",
              "      <td>4.070284</td>\n",
              "      <td>0.970723</td>\n",
              "      <td>0.770992</td>\n",
              "      <td>...</td>\n",
              "      <td>0.142239</td>\n",
              "      <td>0.096729</td>\n",
              "      <td>0.017957</td>\n",
              "      <td>0.250000</td>\n",
              "      <td>0.336476</td>\n",
              "      <td>0.007812</td>\n",
              "      <td>2.164062</td>\n",
              "      <td>2.156250</td>\n",
              "      <td>0.148272</td>\n",
              "      <td>male</td>\n",
              "    </tr>\n",
              "    <tr>\n",
              "      <th>9</th>\n",
              "      <td>0.134329</td>\n",
              "      <td>0.080350</td>\n",
              "      <td>0.121451</td>\n",
              "      <td>0.075580</td>\n",
              "      <td>0.201957</td>\n",
              "      <td>0.126377</td>\n",
              "      <td>1.190368</td>\n",
              "      <td>4.787310</td>\n",
              "      <td>0.975246</td>\n",
              "      <td>0.804505</td>\n",
              "      <td>...</td>\n",
              "      <td>0.134329</td>\n",
              "      <td>0.105881</td>\n",
              "      <td>0.019300</td>\n",
              "      <td>0.262295</td>\n",
              "      <td>0.340365</td>\n",
              "      <td>0.015625</td>\n",
              "      <td>4.695312</td>\n",
              "      <td>4.679688</td>\n",
              "      <td>0.089920</td>\n",
              "      <td>male</td>\n",
              "    </tr>\n",
              "  </tbody>\n",
              "</table>\n",
              "<p>10 rows × 21 columns</p>\n",
              "</div>"
            ],
            "text/plain": [
              "   meanfreq        sd    median       Q25       Q75       IQR       skew  \\\n",
              "0  0.059781  0.064241  0.032027  0.015071  0.090193  0.075122  12.863462   \n",
              "1  0.066009  0.067310  0.040229  0.019414  0.092666  0.073252  22.423285   \n",
              "2  0.077316  0.083829  0.036718  0.008701  0.131908  0.123207  30.757155   \n",
              "3  0.151228  0.072111  0.158011  0.096582  0.207955  0.111374   1.232831   \n",
              "4  0.135120  0.079146  0.124656  0.078720  0.206045  0.127325   1.101174   \n",
              "5  0.132786  0.079557  0.119090  0.067958  0.209592  0.141634   1.932562   \n",
              "6  0.150762  0.074463  0.160106  0.092899  0.205718  0.112819   1.530643   \n",
              "7  0.160514  0.076767  0.144337  0.110532  0.231962  0.121430   1.397156   \n",
              "8  0.142239  0.078018  0.138587  0.088206  0.208587  0.120381   1.099746   \n",
              "9  0.134329  0.080350  0.121451  0.075580  0.201957  0.126377   1.190368   \n",
              "\n",
              "          kurt    sp.ent       sfm  ...  centroid   meanfun    minfun  \\\n",
              "0   274.402906  0.893369  0.491918  ...  0.059781  0.084279  0.015702   \n",
              "1   634.613855  0.892193  0.513724  ...  0.066009  0.107937  0.015826   \n",
              "2  1024.927705  0.846389  0.478905  ...  0.077316  0.098706  0.015656   \n",
              "3     4.177296  0.963322  0.727232  ...  0.151228  0.088965  0.017798   \n",
              "4     4.333713  0.971955  0.783568  ...  0.135120  0.106398  0.016931   \n",
              "5     8.308895  0.963181  0.738307  ...  0.132786  0.110132  0.017112   \n",
              "6     5.987498  0.967573  0.762638  ...  0.150762  0.105945  0.026230   \n",
              "7     4.766611  0.959255  0.719858  ...  0.160514  0.093052  0.017758   \n",
              "8     4.070284  0.970723  0.770992  ...  0.142239  0.096729  0.017957   \n",
              "9     4.787310  0.975246  0.804505  ...  0.134329  0.105881  0.019300   \n",
              "\n",
              "     maxfun   meandom    mindom    maxdom   dfrange   modindx  label  \n",
              "0  0.275862  0.007812  0.007812  0.007812  0.000000  0.000000   male  \n",
              "1  0.250000  0.009014  0.007812  0.054688  0.046875  0.052632   male  \n",
              "2  0.271186  0.007990  0.007812  0.015625  0.007812  0.046512   male  \n",
              "3  0.250000  0.201497  0.007812  0.562500  0.554688  0.247119   male  \n",
              "4  0.266667  0.712812  0.007812  5.484375  5.476562  0.208274   male  \n",
              "5  0.253968  0.298222  0.007812  2.726562  2.718750  0.125160   male  \n",
              "6  0.266667  0.479620  0.007812  5.312500  5.304688  0.123992   male  \n",
              "7  0.144144  0.301339  0.007812  0.539062  0.531250  0.283937   male  \n",
              "8  0.250000  0.336476  0.007812  2.164062  2.156250  0.148272   male  \n",
              "9  0.262295  0.340365  0.015625  4.695312  4.679688  0.089920   male  \n",
              "\n",
              "[10 rows x 21 columns]"
            ]
          },
          "execution_count": 3,
          "metadata": {},
          "output_type": "execute_result"
        }
      ],
      "source": [
        "# read csv and drop\n",
        "df = pd.read_csv(\"/kaggle/input/voicegender/voice.csv\")\n",
        "df.head(10)"
      ]
    },
    {
      "cell_type": "code",
      "execution_count": null,
      "id": "b5d4797d",
      "metadata": {
        "execution": {
          "iopub.execute_input": "2024-06-02T12:06:47.435280Z",
          "iopub.status.busy": "2024-06-02T12:06:47.434272Z",
          "iopub.status.idle": "2024-06-02T12:06:47.460511Z",
          "shell.execute_reply": "2024-06-02T12:06:47.459151Z"
        },
        "papermill": {
          "duration": 0.036187,
          "end_time": "2024-06-02T12:06:47.463216",
          "exception": false,
          "start_time": "2024-06-02T12:06:47.427029",
          "status": "completed"
        },
        "tags": [],
        "id": "b5d4797d",
        "outputId": "5b3307cb-2160-4071-958b-1d4d256a2974"
      },
      "outputs": [
        {
          "name": "stdout",
          "output_type": "stream",
          "text": [
            "<class 'pandas.core.frame.DataFrame'>\n",
            "RangeIndex: 3168 entries, 0 to 3167\n",
            "Data columns (total 21 columns):\n",
            " #   Column    Non-Null Count  Dtype  \n",
            "---  ------    --------------  -----  \n",
            " 0   meanfreq  3168 non-null   float64\n",
            " 1   sd        3168 non-null   float64\n",
            " 2   median    3168 non-null   float64\n",
            " 3   Q25       3168 non-null   float64\n",
            " 4   Q75       3168 non-null   float64\n",
            " 5   IQR       3168 non-null   float64\n",
            " 6   skew      3168 non-null   float64\n",
            " 7   kurt      3168 non-null   float64\n",
            " 8   sp.ent    3168 non-null   float64\n",
            " 9   sfm       3168 non-null   float64\n",
            " 10  mode      3168 non-null   float64\n",
            " 11  centroid  3168 non-null   float64\n",
            " 12  meanfun   3168 non-null   float64\n",
            " 13  minfun    3168 non-null   float64\n",
            " 14  maxfun    3168 non-null   float64\n",
            " 15  meandom   3168 non-null   float64\n",
            " 16  mindom    3168 non-null   float64\n",
            " 17  maxdom    3168 non-null   float64\n",
            " 18  dfrange   3168 non-null   float64\n",
            " 19  modindx   3168 non-null   float64\n",
            " 20  label     3168 non-null   object \n",
            "dtypes: float64(20), object(1)\n",
            "memory usage: 519.9+ KB\n"
          ]
        }
      ],
      "source": [
        "df.info()"
      ]
    },
    {
      "cell_type": "markdown",
      "id": "dd19141c",
      "metadata": {
        "papermill": {
          "duration": 0.005745,
          "end_time": "2024-06-02T12:06:47.475058",
          "exception": false,
          "start_time": "2024-06-02T12:06:47.469313",
          "status": "completed"
        },
        "tags": [],
        "id": "dd19141c"
      },
      "source": [
        "Our **label** feature dtype is object, so we couldn't use at categorical classification. In this reason, we have to change to ones or zeros."
      ]
    },
    {
      "cell_type": "code",
      "execution_count": null,
      "id": "e96dd691",
      "metadata": {
        "execution": {
          "iopub.execute_input": "2024-06-02T12:06:47.489388Z",
          "iopub.status.busy": "2024-06-02T12:06:47.488934Z",
          "iopub.status.idle": "2024-06-02T12:06:47.497423Z",
          "shell.execute_reply": "2024-06-02T12:06:47.496364Z"
        },
        "papermill": {
          "duration": 0.018524,
          "end_time": "2024-06-02T12:06:47.499754",
          "exception": false,
          "start_time": "2024-06-02T12:06:47.481230",
          "status": "completed"
        },
        "tags": [],
        "id": "e96dd691"
      },
      "outputs": [],
      "source": [
        "df.label=[1 if each=='male' else 0 for each in df.label]"
      ]
    },
    {
      "cell_type": "code",
      "execution_count": null,
      "id": "cc3e5c03",
      "metadata": {
        "execution": {
          "iopub.execute_input": "2024-06-02T12:06:47.513883Z",
          "iopub.status.busy": "2024-06-02T12:06:47.513467Z",
          "iopub.status.idle": "2024-06-02T12:06:47.520271Z",
          "shell.execute_reply": "2024-06-02T12:06:47.519122Z"
        },
        "papermill": {
          "duration": 0.016636,
          "end_time": "2024-06-02T12:06:47.522638",
          "exception": false,
          "start_time": "2024-06-02T12:06:47.506002",
          "status": "completed"
        },
        "tags": [],
        "id": "cc3e5c03"
      },
      "outputs": [],
      "source": [
        "y = df.label.values\n",
        "x = df.drop([\"label\"],axis=1)"
      ]
    },
    {
      "cell_type": "markdown",
      "id": "b4a2abab",
      "metadata": {
        "papermill": {
          "duration": 0.005879,
          "end_time": "2024-06-02T12:06:47.534561",
          "exception": false,
          "start_time": "2024-06-02T12:06:47.528682",
          "status": "completed"
        },
        "tags": [],
        "id": "b4a2abab"
      },
      "source": [
        "We will use the sklearn library to train voices data. By importing train_test_split from sklearn, we sort voices data randomly and assign it to variables like x_train, x_test, y_train, y_test. Here; x_train and y_train; variables to use for machine learning, x_test and y_test; the variables required to find out the success percentage of the code we wrote."
      ]
    },
    {
      "cell_type": "code",
      "execution_count": null,
      "id": "a9387075",
      "metadata": {
        "execution": {
          "iopub.execute_input": "2024-06-02T12:06:47.549204Z",
          "iopub.status.busy": "2024-06-02T12:06:47.548766Z",
          "iopub.status.idle": "2024-06-02T12:06:47.901528Z",
          "shell.execute_reply": "2024-06-02T12:06:47.900545Z"
        },
        "papermill": {
          "duration": 0.364065,
          "end_time": "2024-06-02T12:06:47.904559",
          "exception": false,
          "start_time": "2024-06-02T12:06:47.540494",
          "status": "completed"
        },
        "tags": [],
        "id": "a9387075"
      },
      "outputs": [],
      "source": [
        "#division of data for training and test\n",
        "from sklearn.model_selection import train_test_split\n",
        "x_train, x_test, y_train, y_test = train_test_split(x,y, test_size = 0.2, random_state = 42 )"
      ]
    },
    {
      "cell_type": "markdown",
      "id": "be257e90",
      "metadata": {
        "papermill": {
          "duration": 0.005875,
          "end_time": "2024-06-02T12:06:47.916708",
          "exception": false,
          "start_time": "2024-06-02T12:06:47.910833",
          "status": "completed"
        },
        "tags": [],
        "id": "be257e90"
      },
      "source": [
        "Data distribution: Whether data is distributed normally is a factor that affects the operation of some algorithms. Model performance may be affected if the data is right or left tilted. We will use StandardScaler to avoid this."
      ]
    },
    {
      "cell_type": "code",
      "execution_count": null,
      "id": "9ad889d5",
      "metadata": {
        "execution": {
          "iopub.execute_input": "2024-06-02T12:06:47.930646Z",
          "iopub.status.busy": "2024-06-02T12:06:47.930249Z",
          "iopub.status.idle": "2024-06-02T12:06:47.943389Z",
          "shell.execute_reply": "2024-06-02T12:06:47.941983Z"
        },
        "papermill": {
          "duration": 0.023195,
          "end_time": "2024-06-02T12:06:47.946056",
          "exception": false,
          "start_time": "2024-06-02T12:06:47.922861",
          "status": "completed"
        },
        "tags": [],
        "id": "9ad889d5"
      },
      "outputs": [],
      "source": [
        "#scailing of data\n",
        "from sklearn.preprocessing import StandardScaler\n",
        "sc = StandardScaler()\n",
        "\n",
        "X_train = sc.fit_transform(x_train)\n",
        "X_test = sc.transform(x_test)"
      ]
    },
    {
      "cell_type": "code",
      "execution_count": null,
      "id": "0da77398",
      "metadata": {
        "execution": {
          "iopub.execute_input": "2024-06-02T12:06:47.960318Z",
          "iopub.status.busy": "2024-06-02T12:06:47.959843Z",
          "iopub.status.idle": "2024-06-02T12:06:48.118185Z",
          "shell.execute_reply": "2024-06-02T12:06:48.116628Z"
        },
        "papermill": {
          "duration": 0.170789,
          "end_time": "2024-06-02T12:06:48.123194",
          "exception": false,
          "start_time": "2024-06-02T12:06:47.952405",
          "status": "completed"
        },
        "tags": [],
        "id": "0da77398",
        "outputId": "d524bb92-8f78-442f-86c9-d704dbfbd3c2"
      },
      "outputs": [
        {
          "name": "stdout",
          "output_type": "stream",
          "text": [
            "[0 1 1 0 0 0 1 1 0 1 0 0 0 0 0 0 0 0 0 1 1 0 1 0 1 0 1 1 1 1 1 0 0 1 1 0 1\n",
            " 1 1 1 0 1 1 0 0 1 1 0 1 1 0 1 0 0 0 1 0 1 1 0 1 0 1 0 1 0 0 1 0 1 0 0 0 1\n",
            " 1 0 1 1 0 0 0 1 1 1 1 1 0 1 0 1 0 0 0 1 0 1 1 1 0 0 0 1 0 0 1 0 1 1 0 0 0\n",
            " 0 1 0 0 0 1 0 1 1 1 0 1 1 1 1 1 0 1 1 1 1 1 1 1 1 0 0 1 0 1 0 1 1 1 0 0 0\n",
            " 0 1 0 0 1 0 1 1 0 0 0 1 1 1 0 1 1 1 1 0 0 0 1 1 0 1 1 1 1 0 0 0 0 1 1 1 0\n",
            " 0 0 0 1 1 1 1 1 0 1 1 0 1 0 1 0 0 1 1 0 0 0 1 1 1 1 1 1 0 1 0 1 0 0 0 0 1\n",
            " 0 0 0 1 1 1 0 1 1 0 1 0 0 1 1 0 1 0 1 0 0 1 1 0 1 0 1 1 1 0 0 1 1 0 0 0 1\n",
            " 0 1 0 1 1 0 0 1 1 0 0 0 0 0 1 0 1 0 0 0 1 1 1 0 1 0 1 1 1 0 0 1 1 0 1 1 0\n",
            " 1 0 0 0 1 0 0 1 1 1 0 1 0 1 0 1 0 0 0 1 1 1 0 1 1 0 1 0 0 0 1 0 1 1 0 0 0\n",
            " 1 0 0 1 1 1 1 1 0 1 0 0 0 0 0 1 1 1 1 1 0 0 1 0 0 1 1 1 0 0 0 0 1 1 0 0 1\n",
            " 1 1 0 0 1 1 1 1 1 1 0 0 0 1 0 0 0 0 0 1 1 0 0 1 0 1 0 0 0 0 0 1 1 0 0 1 1\n",
            " 1 0 0 0 1 1 0 1 0 1 1 1 0 0 0 1 1 1 1 0 1 1 0 0 0 1 1 0 0 1 1 0 1 0 1 1 1\n",
            " 1 0 1 1 1 1 0 1 0 0 0 1 0 0 0 1 1 0 1 1 1 1 1 1 1 0 0 0 1 1 1 0 1 0 0 0 1\n",
            " 0 1 1 0 0 1 1 1 0 1 0 1 1 0 0 1 1 1 1 0 0 1 0 1 0 0 0 1 1 1 1 0 0 0 0 0 0\n",
            " 1 1 0 1 0 1 0 0 1 0 0 0 0 0 0 0 1 0 0 1 1 0 1 0 1 1 0 1 1 0 1 1 1 0 0 1 0\n",
            " 0 1 0 0 0 1 1 0 1 1 1 1 1 0 1 0 1 0 0 1 0 1 1 0 1 1 1 1 0 1 1 1 0 0 0 1 1\n",
            " 1 0 1 1 1 0 0 1 1 1 1 1 1 0 0 0 1 0 1 0 1 1 1 1 1 1 1 1 1 1 0 0 1 1 0 1 1\n",
            " 0 1 1 1 0]\n",
            "Logistic regressin score: 0.9739542225730071\n"
          ]
        }
      ],
      "source": [
        "#training\n",
        "from sklearn.linear_model import LogisticRegression\n",
        "lr = LogisticRegression()\n",
        "lr.fit(X_train,y_train)\n",
        "\n",
        "y_pred = lr.predict(X_test)\n",
        "print(y_pred)\n",
        "print(\"Logistic regressin score: {}\".format(lr.score(X_train,y_train)))"
      ]
    }
  ],
  "metadata": {
    "kaggle": {
      "accelerator": "none",
      "dataSources": [
        {
          "datasetId": 134,
          "sourceId": 276,
          "sourceType": "datasetVersion"
        }
      ],
      "dockerImageVersionId": 30715,
      "isGpuEnabled": false,
      "isInternetEnabled": true,
      "language": "python",
      "sourceType": "notebook"
    },
    "kernelspec": {
      "display_name": "Python 3",
      "language": "python",
      "name": "python3"
    },
    "language_info": {
      "codemirror_mode": {
        "name": "ipython",
        "version": 3
      },
      "file_extension": ".py",
      "mimetype": "text/x-python",
      "name": "python",
      "nbconvert_exporter": "python",
      "pygments_lexer": "ipython3",
      "version": "3.10.13"
    },
    "papermill": {
      "default_parameters": {},
      "duration": 6.851738,
      "end_time": "2024-06-02T12:06:48.868685",
      "environment_variables": {},
      "exception": null,
      "input_path": "__notebook__.ipynb",
      "output_path": "__notebook__.ipynb",
      "parameters": {},
      "start_time": "2024-06-02T12:06:42.016947",
      "version": "2.5.0"
    },
    "colab": {
      "provenance": [],
      "include_colab_link": true
    }
  },
  "nbformat": 4,
  "nbformat_minor": 5
}